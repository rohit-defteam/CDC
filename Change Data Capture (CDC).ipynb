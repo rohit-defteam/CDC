{
 "cells": [
  {
   "cell_type": "code",
   "execution_count": 1,
   "id": "f8073743",
   "metadata": {},
   "outputs": [],
   "source": [
    "import pandas as pd\n",
    "import json\n",
    "import warnings"
   ]
  },
  {
   "cell_type": "code",
   "execution_count": 2,
   "id": "d5fd0883",
   "metadata": {},
   "outputs": [],
   "source": [
    "df_txt = pd.read_csv('TRANS_SRC_TXT.txt', sep = ';', encoding = 'latin-1')"
   ]
  },
  {
   "cell_type": "code",
   "execution_count": 3,
   "id": "746a0fa5",
   "metadata": {},
   "outputs": [],
   "source": [
    "df_csv = pd.read_csv('TRANS_SRC_CSV.csv', sep = ';' ,encoding = \"ISO-8859-1\", on_bad_lines='skip')"
   ]
  },
  {
   "cell_type": "code",
   "execution_count": 6,
   "id": "82100c25",
   "metadata": {},
   "outputs": [
    {
     "data": {
      "text/plain": [
       "(206228, 14)"
      ]
     },
     "execution_count": 6,
     "metadata": {},
     "output_type": "execute_result"
    }
   ],
   "source": [
    "df_txt.shape"
   ]
  },
  {
   "cell_type": "code",
   "execution_count": 7,
   "id": "65fdb7b3",
   "metadata": {},
   "outputs": [
    {
     "data": {
      "text/plain": [
       "(18824, 14)"
      ]
     },
     "execution_count": 7,
     "metadata": {},
     "output_type": "execute_result"
    }
   ],
   "source": [
    "df_csv.shape"
   ]
  },
  {
   "cell_type": "code",
   "execution_count": 11,
   "id": "31deb084",
   "metadata": {},
   "outputs": [],
   "source": [
    "df_txt.dropna(inplace=True)\n",
    "df_csv.dropna(inplace=True)\n",
    "df_txt.drop_duplicates(inplace=True)\n",
    "df_csv.drop_duplicates(inplace= True)"
   ]
  },
  {
   "cell_type": "code",
   "execution_count": 28,
   "id": "1fc89a3f",
   "metadata": {},
   "outputs": [
    {
     "data": {
      "text/plain": [
       "((171801, 14), (15749, 14))"
      ]
     },
     "execution_count": 28,
     "metadata": {},
     "output_type": "execute_result"
    }
   ],
   "source": [
    "df_txt.shape, df_csv.shape"
   ]
  },
  {
   "cell_type": "code",
   "execution_count": 26,
   "id": "772ccbfa",
   "metadata": {},
   "outputs": [],
   "source": [
    "#-- Both code will do same thing\n",
    "\n",
    "# pandas.merge()\n",
    "df3=pd.merge(df_txt,df_csv, how='outer')\n",
    "\n",
    "# DataFrame.merge()\n",
    "df4=df_txt.merge(df_csv, how='outer')"
   ]
  },
  {
   "cell_type": "code",
   "execution_count": null,
   "id": "50fe726e",
   "metadata": {},
   "outputs": [],
   "source": [
    "# USing Spark"
   ]
  },
  {
   "cell_type": "code",
   "execution_count": 33,
   "id": "c8917afa",
   "metadata": {},
   "outputs": [],
   "source": [
    "from pyspark.sql import SparkSession\n",
    "spark = SparkSession .builder.appName(\"final_assignment\").getOrCreate()"
   ]
  },
  {
   "cell_type": "code",
   "execution_count": 34,
   "id": "f9da6997",
   "metadata": {},
   "outputs": [],
   "source": [
    "df_csv = spark.read.csv('TRANS_SRC_CSV.csv', header = True , inferSchema = True, sep = ';')"
   ]
  },
  {
   "cell_type": "code",
   "execution_count": 35,
   "id": "4b5a6fd3",
   "metadata": {},
   "outputs": [],
   "source": [
    "df_dat = spark.read.csv('TRANS_SRC_DAT.dat', header = True , inferSchema = True, sep = ';')"
   ]
  },
  {
   "cell_type": "code",
   "execution_count": 36,
   "id": "77bceee6",
   "metadata": {},
   "outputs": [],
   "source": [
    "df_csv= df_csv.na.drop()\n",
    "df_dat= df_dat.na.drop()"
   ]
  },
  {
   "cell_type": "code",
   "execution_count": 37,
   "id": "53d0ec6d",
   "metadata": {},
   "outputs": [],
   "source": [
    "neww=df_dat.join(df_csv, on = df_dat.columns, how='full')"
   ]
  },
  {
   "cell_type": "code",
   "execution_count": 38,
   "id": "605033b6",
   "metadata": {},
   "outputs": [
    {
     "data": {
      "text/plain": [
       "(15749, 15741)"
      ]
     },
     "execution_count": 38,
     "metadata": {},
     "output_type": "execute_result"
    }
   ],
   "source": [
    "df_csv.count() , df_dat.count()"
   ]
  },
  {
   "cell_type": "code",
   "execution_count": 40,
   "id": "b9d53f44",
   "metadata": {},
   "outputs": [
    {
     "data": {
      "text/plain": [
       "31490"
      ]
     },
     "execution_count": 40,
     "metadata": {},
     "output_type": "execute_result"
    }
   ],
   "source": [
    "15749 + 15741"
   ]
  },
  {
   "cell_type": "code",
   "execution_count": 39,
   "id": "9f7cb07d",
   "metadata": {},
   "outputs": [
    {
     "data": {
      "text/plain": [
       "31490"
      ]
     },
     "execution_count": 39,
     "metadata": {},
     "output_type": "execute_result"
    }
   ],
   "source": [
    "neww.count()"
   ]
  }
 ],
 "metadata": {
  "kernelspec": {
   "display_name": "Python 3 (ipykernel)",
   "language": "python",
   "name": "python3"
  },
  "language_info": {
   "codemirror_mode": {
    "name": "ipython",
    "version": 3
   },
   "file_extension": ".py",
   "mimetype": "text/x-python",
   "name": "python",
   "nbconvert_exporter": "python",
   "pygments_lexer": "ipython3",
   "version": "3.10.6"
  }
 },
 "nbformat": 4,
 "nbformat_minor": 5
}
